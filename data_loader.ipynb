{
 "cells": [
  {
   "cell_type": "code",
   "execution_count": 41,
   "outputs": [],
   "source": [
    "import os\n",
    "import http.client\n",
    "import json"
   ],
   "metadata": {
    "collapsed": false
   }
  },
  {
   "cell_type": "code",
   "execution_count": 43,
   "outputs": [],
   "source": [
    "def load_mappings_from_file(filename):\n",
    "    mappings = {}\n",
    "    with open(filename, 'r') as file:\n",
    "        for line in file:\n",
    "            key, value = line.strip().split(':')\n",
    "            mappings[key] = int(value)\n",
    "    return mappings\n",
    "\n",
    "mappings = load_mappings_from_file('./data/mapping.txt')\n",
    "\n",
    "\n",
    "mappings"
   ],
   "metadata": {
    "collapsed": false
   }
  },
  {
   "cell_type": "code",
   "execution_count": 44,
   "outputs": [],
   "source": [
    "def request_data(league_name, league_id, season):\n",
    "    # Define the directory and file paths\n",
    "    directory_path = f'./data/{league_name}/{season}'\n",
    "    file_path = os.path.join(directory_path, 'file.json')\n",
    "\n",
    "    # Check if the file already exists\n",
    "    if os.path.isfile(file_path):\n",
    "        # Load and return the existing data\n",
    "        with open(file_path, 'r') as file:\n",
    "            data_dict = json.load(file)\n",
    "        print(\"Loaded data from existing file.\")\n",
    "    else:\n",
    "        # Make the HTTP request for new data\n",
    "        conn = http.client.HTTPSConnection(\"v3.football.api-sports.io\")\n",
    "        headers = {\n",
    "            'x-rapidapi-host': \"v3.football.api-sports.io\",\n",
    "            'x-rapidapi-key': \"483cf201220068a29dbebab0fed58226\"  # Replace with your actual API key\n",
    "        }\n",
    "        conn.request(\"GET\", f\"/standings?league={league_id}&season={season}\", headers=headers)\n",
    "        res = conn.getresponse()\n",
    "        data = res.read()\n",
    "\n",
    "        # Convert the response data to a dictionary\n",
    "        data_dict = json.loads(data.decode(\"utf-8\"))\n",
    "\n",
    "        # Create the directory if it doesn't exist\n",
    "        os.makedirs(directory_path, exist_ok=True)\n",
    "\n",
    "        # Save the new data to a file\n",
    "        with open(file_path, 'w') as file:\n",
    "            json.dump(data_dict, file, indent=4)\n",
    "        print(\"Requested new data and saved to file.\")\n",
    "\n",
    "    return data_dict"
   ],
   "metadata": {
    "collapsed": false
   }
  },
  {
   "cell_type": "code",
   "execution_count": 45,
   "outputs": [],
   "source": [
    "league_name = 'Premier League'\n",
    "season = '2020'"
   ],
   "metadata": {
    "collapsed": false
   }
  },
  {
   "cell_type": "code",
   "execution_count": 46,
   "outputs": [],
   "source": [
    "if league_name in mappings:\n",
    "    league_id = mappings[league_name]\n",
    "    result = request_data(league_name, str(league_id), str(season))\n",
    "    print(result)\n",
    "else:\n",
    "    print(\"League not found in the mappings.\")"
   ],
   "metadata": {
    "collapsed": false
   }
  },
  {
   "cell_type": "code",
   "execution_count": 47,
   "outputs": [],
   "source": [
    "result"
   ],
   "metadata": {
    "collapsed": false
   }
  },
  {
   "cell_type": "code",
   "execution_count": 48,
   "outputs": [],
   "source": [
    "print(result)"
   ],
   "metadata": {
    "collapsed": false
   }
  }
 ],
 "metadata": {
  "kernelspec": {
   "display_name": "Python 3",
   "language": "python",
   "name": "python3"
  },
  "language_info": {
   "codemirror_mode": {
    "name": "ipython",
    "version": 2
   },
   "file_extension": ".py",
   "mimetype": "text/x-python",
   "name": "python",
   "nbconvert_exporter": "python",
   "pygments_lexer": "ipython2",
   "version": "2.7.6"
  }
 },
 "nbformat": 4,
 "nbformat_minor": 0
}
