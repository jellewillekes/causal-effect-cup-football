{
 "cells": [
  {
   "cell_type": "code",
   "execution_count": 6,
   "metadata": {
    "collapsed": true,
    "ExecuteTime": {
     "end_time": "2024-03-13T16:41:30.481480Z",
     "start_time": "2024-03-13T16:41:30.479962400Z"
    }
   },
   "outputs": [],
   "source": [
    "from raw_data.loader import get_project_root, load_stages\n",
    "import os\n",
    "import json\n",
    "\n",
    "import pandas as pd"
   ]
  },
  {
   "cell_type": "code",
   "execution_count": 7,
   "outputs": [
    {
     "name": "stdout",
     "output_type": "stream",
     "text": [
      "   Year        Round  Stage   Team_name  Team_id Opponent_name  Opponent_id  \\\n",
      "0  2017        Final    6.0  AZ Alkmaar      201     Feyenoord          209   \n",
      "1  2017        Final    6.0   Feyenoord      209    AZ Alkmaar          201   \n",
      "2  2017  Semi-finals    5.0   Feyenoord      209     Willem II          195   \n",
      "3  2017  Semi-finals    5.0   Willem II      195     Feyenoord          209   \n",
      "4  2017  Semi-finals    5.0  AZ Alkmaar      201        Twente          415   \n",
      "\n",
      "   Team_win  \n",
      "0       0.0  \n",
      "1       1.0  \n",
      "2       1.0  \n",
      "3       0.0  \n",
      "4       1.0  \n"
     ]
    }
   ],
   "source": [
    "def process_cup_fixtures(country, cup, season_start, season_end):\n",
    "    all_matches = []\n",
    "    project_root = get_project_root()\n",
    "    stages = load_stages(country)\n",
    "\n",
    "    # Loop through the seasons\n",
    "    for season in range(season_start, season_end):\n",
    "        # Construct the path to the season's fixtures file\n",
    "        season_path = os.path.join(project_root, 'raw_data', country, cup, str(season), 'fixtures_data.json')\n",
    "\n",
    "        # Check if the path exists\n",
    "        if os.path.isfile(season_path):\n",
    "            # Load the JSON data from the file\n",
    "            with open(season_path, 'r') as file:\n",
    "                fixtures_data = json.load(file)\n",
    "            for fixture in fixtures_data['response']:\n",
    "                round_name = fixture['league']['round']\n",
    "                stage_number = stages.get(round_name)\n",
    "\n",
    "                # Add entry for home team\n",
    "                home_winner = fixture['teams']['home'].get('winner')\n",
    "                away_winner = fixture['teams']['away'].get('winner')\n",
    "\n",
    "                # If 'winner' is not None, convert it to int, otherwise, it remains None\n",
    "                home_team_win = int(home_winner) if home_winner is not None else None\n",
    "                away_team_win = int(away_winner) if away_winner is not None else None\n",
    "\n",
    "                match_data_home = {\n",
    "                    'Year': season,\n",
    "                    'Round': round_name,\n",
    "                    'Stage': stage_number,\n",
    "                    'Team_name': fixture['teams']['home']['name'],\n",
    "                    'Team_id': fixture['teams']['home']['id'],\n",
    "                    'Opponent_name': fixture['teams']['away']['name'],\n",
    "                    'Opponent_id': fixture['teams']['away']['id'],\n",
    "                    'Team_win': home_team_win\n",
    "                }\n",
    "                all_matches.append(match_data_home)\n",
    "\n",
    "                # The same logic applies for the away team\n",
    "                match_data_away = {\n",
    "                    'Year': season,\n",
    "                    'Round': round_name,\n",
    "                    'Stage': stage_number,\n",
    "                    'Team_name': fixture['teams']['away']['name'],\n",
    "                    'Team_id': fixture['teams']['away']['id'],\n",
    "                    'Opponent_name': fixture['teams']['home']['name'],\n",
    "                    'Opponent_id': fixture['teams']['home']['id'],\n",
    "                    'Team_win': away_team_win\n",
    "                }\n",
    "                all_matches.append(match_data_away)\n",
    "\n",
    "    # Convert the all_matches list to a DataFrame\n",
    "    matches_df = pd.DataFrame(all_matches)\n",
    "\n",
    "    return matches_df"
   ],
   "metadata": {
    "collapsed": false,
    "ExecuteTime": {
     "end_time": "2024-03-13T16:41:31.797201400Z",
     "start_time": "2024-03-13T16:41:31.779827900Z"
    }
   }
  },
  {
   "cell_type": "code",
   "execution_count": 8,
   "outputs": [
    {
     "name": "stdout",
     "output_type": "stream",
     "text": [
      "   Year        Round  Stage   Team_name  Team_id Opponent_name  Opponent_id  \\\n",
      "0  2017        Final    6.0  AZ Alkmaar      201     Feyenoord          209   \n",
      "1  2017        Final    6.0   Feyenoord      209    AZ Alkmaar          201   \n",
      "2  2017  Semi-finals    5.0   Feyenoord      209     Willem II          195   \n",
      "3  2017  Semi-finals    5.0   Willem II      195     Feyenoord          209   \n",
      "4  2017  Semi-finals    5.0  AZ Alkmaar      201        Twente          415   \n",
      "\n",
      "   Team_win  \n",
      "0       0.0  \n",
      "1       1.0  \n",
      "2       1.0  \n",
      "3       0.0  \n",
      "4       1.0  \n"
     ]
    }
   ],
   "source": [
    "country = 'Netherlands'\n",
    "cup = 'KNVB_Beker'\n",
    "season_start = 2017\n",
    "season_end = 2023\n",
    "\n",
    "fixtures_df = process_cup_fixtures(country, cup, season_start, season_end)\n",
    "print(fixtures_df.head())"
   ],
   "metadata": {
    "collapsed": false,
    "ExecuteTime": {
     "end_time": "2024-03-13T16:41:52.112618700Z",
     "start_time": "2024-03-13T16:41:52.100112800Z"
    }
   }
  }
 ],
 "metadata": {
  "kernelspec": {
   "display_name": "Python 3",
   "language": "python",
   "name": "python3"
  },
  "language_info": {
   "codemirror_mode": {
    "name": "ipython",
    "version": 2
   },
   "file_extension": ".py",
   "mimetype": "text/x-python",
   "name": "python",
   "nbconvert_exporter": "python",
   "pygments_lexer": "ipython2",
   "version": "2.7.6"
  }
 },
 "nbformat": 4,
 "nbformat_minor": 0
}
