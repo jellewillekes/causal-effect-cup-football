{
 "cells": [
  {
   "cell_type": "code",
   "execution_count": 4,
   "metadata": {
    "collapsed": true,
    "ExecuteTime": {
     "end_time": "2024-03-13T16:38:17.170858100Z",
     "start_time": "2024-03-13T16:38:17.158955Z"
    }
   },
   "outputs": [],
   "source": [
    "from raw_data.loader import get_project_root, load_stages\n",
    "import os\n",
    "import json\n",
    "\n",
    "import pandas as pd"
   ]
  },
  {
   "cell_type": "code",
   "execution_count": 5,
   "outputs": [
    {
     "name": "stdout",
     "output_type": "stream",
     "text": [
      "   Year        Round  Stage Team_i_name  Team_id_i Opponent_j_name  \\\n",
      "0  2017        Final    6.0  AZ Alkmaar      201.0       Feyenoord   \n",
      "1  2017        Final    6.0         NaN        NaN             NaN   \n",
      "2  2017  Semi-finals    5.0   Feyenoord      209.0       Willem II   \n",
      "3  2017  Semi-finals    5.0         NaN        NaN             NaN   \n",
      "4  2017  Semi-finals    5.0  AZ Alkmaar      201.0          Twente   \n",
      "\n",
      "   Opponent_j_id  Team_i_win  Team_name  Team_id Opponent_name  Opponent_id  \n",
      "0          209.0         0.0        NaN      NaN           NaN          NaN  \n",
      "1            NaN         1.0  Feyenoord    209.0    AZ Alkmaar        201.0  \n",
      "2          195.0         1.0        NaN      NaN           NaN          NaN  \n",
      "3            NaN         0.0  Willem II    195.0     Feyenoord        209.0  \n",
      "4          415.0         1.0        NaN      NaN           NaN          NaN  \n"
     ]
    }
   ],
   "source": [
    "def process_cup_fixtures(country, cup, season_start, season_end):\n",
    "    all_matches = []\n",
    "    project_root = get_project_root()\n",
    "    stages = load_stages(country)\n",
    "\n",
    "    # Loop through the seasons\n",
    "    for season in range(season_start, season_end):\n",
    "        # Construct the path to the season's fixtures file\n",
    "        season_path = os.path.join(project_root, 'raw_data', country, cup, str(season), 'fixtures_data.json')\n",
    "\n",
    "        # Check if the path exists\n",
    "        if os.path.isfile(season_path):\n",
    "            # Load the JSON data from the file\n",
    "            with open(season_path, 'r') as file:\n",
    "                fixtures_data = json.load(file)\n",
    "            for fixture in fixtures_data['response']:\n",
    "                round_name = fixture['league']['round']\n",
    "                stage_number = stages.get(round_name)\n",
    "\n",
    "                # Add entry for home team\n",
    "                home_winner = fixture['teams']['home'].get('winner')\n",
    "                away_winner = fixture['teams']['away'].get('winner')\n",
    "\n",
    "                # If 'winner' is not None, convert it to int, otherwise, it remains None\n",
    "                home_team_win = int(home_winner) if home_winner is not None else None\n",
    "                away_team_win = int(away_winner) if away_winner is not None else None\n",
    "\n",
    "                match_data_home = {\n",
    "                    'Year': season,\n",
    "                    'Round': round_name,\n",
    "                    'Stage': stage_number,\n",
    "                    'Team_i_name': fixture['teams']['home']['name'],\n",
    "                    'Team_id_i': fixture['teams']['home']['id'],\n",
    "                    'Opponent_j_name': fixture['teams']['away']['name'],\n",
    "                    'Opponent_j_id': fixture['teams']['away']['id'],\n",
    "                    'Team_i_win': home_team_win\n",
    "                }\n",
    "                all_matches.append(match_data_home)\n",
    "\n",
    "                # The same logic applies for the away team\n",
    "                match_data_away = {\n",
    "                    'Year': season,\n",
    "                    'Round': round_name,\n",
    "                    'Stage': stage_number,\n",
    "                    'Team_name': fixture['teams']['away']['name'],\n",
    "                    'Team_id': fixture['teams']['away']['id'],\n",
    "                    'Opponent_name': fixture['teams']['home']['name'],\n",
    "                    'Opponent_id': fixture['teams']['home']['id'],\n",
    "                    'Team_i_win': away_team_win\n",
    "                }\n",
    "                all_matches.append(match_data_away)\n",
    "\n",
    "    # Convert the all_matches list to a DataFrame\n",
    "    matches_df = pd.DataFrame(all_matches)\n",
    "\n",
    "    return matches_df\n",
    "\n",
    "\n",
    "country = 'Netherlands'\n",
    "cup = 'KNVB_Beker'\n",
    "season_start = 2017\n",
    "season_end = 2023\n",
    "\n",
    "fixtures_df = process_cup_fixtures(country, cup, season_start, season_end)\n",
    "print(fixtures_df.head())"
   ],
   "metadata": {
    "collapsed": false,
    "ExecuteTime": {
     "end_time": "2024-03-13T16:38:18.727495200Z",
     "start_time": "2024-03-13T16:38:18.675478800Z"
    }
   }
  },
  {
   "cell_type": "code",
   "execution_count": 20,
   "outputs": [
    {
     "ename": "NameError",
     "evalue": "name 'load_stages' is not defined",
     "output_type": "error",
     "traceback": [
      "\u001B[1;31m---------------------------------------------------------------------------\u001B[0m",
      "\u001B[1;31mNameError\u001B[0m                                 Traceback (most recent call last)",
      "Cell \u001B[1;32mIn[20], line 67\u001B[0m\n\u001B[0;32m     64\u001B[0m season_start \u001B[38;5;241m=\u001B[39m \u001B[38;5;241m2017\u001B[39m\n\u001B[0;32m     65\u001B[0m season_end \u001B[38;5;241m=\u001B[39m \u001B[38;5;241m2023\u001B[39m\n\u001B[1;32m---> 67\u001B[0m fixtures_df \u001B[38;5;241m=\u001B[39m \u001B[43mprocess_cup_fixtures\u001B[49m\u001B[43m(\u001B[49m\u001B[43mcountry\u001B[49m\u001B[43m,\u001B[49m\u001B[43m \u001B[49m\u001B[43mcup\u001B[49m\u001B[43m,\u001B[49m\u001B[43m \u001B[49m\u001B[43mseason_start\u001B[49m\u001B[43m,\u001B[49m\u001B[43m \u001B[49m\u001B[43mseason_end\u001B[49m\u001B[43m)\u001B[49m\n\u001B[0;32m     68\u001B[0m \u001B[38;5;28mprint\u001B[39m(fixtures_df\u001B[38;5;241m.\u001B[39mhead())\n",
      "Cell \u001B[1;32mIn[20], line 4\u001B[0m, in \u001B[0;36mprocess_cup_fixtures\u001B[1;34m(country, cup, season_start, season_end)\u001B[0m\n\u001B[0;32m      2\u001B[0m all_matches \u001B[38;5;241m=\u001B[39m []\n\u001B[0;32m      3\u001B[0m project_root \u001B[38;5;241m=\u001B[39m get_project_root()\n\u001B[1;32m----> 4\u001B[0m stages \u001B[38;5;241m=\u001B[39m \u001B[43mload_stages\u001B[49m(country)\n\u001B[0;32m      6\u001B[0m \u001B[38;5;66;03m# Loop through the seasons\u001B[39;00m\n\u001B[0;32m      7\u001B[0m \u001B[38;5;28;01mfor\u001B[39;00m season \u001B[38;5;129;01min\u001B[39;00m \u001B[38;5;28mrange\u001B[39m(season_start, season_end):\n\u001B[0;32m      8\u001B[0m     \u001B[38;5;66;03m# Construct the path to the season's fixtures file\u001B[39;00m\n",
      "\u001B[1;31mNameError\u001B[0m: name 'load_stages' is not defined"
     ]
    }
   ],
   "source": [],
   "metadata": {
    "collapsed": false,
    "ExecuteTime": {
     "end_time": "2024-03-13T16:24:03.307924100Z",
     "start_time": "2024-03-13T16:24:03.222890Z"
    }
   }
  }
 ],
 "metadata": {
  "kernelspec": {
   "display_name": "Python 3",
   "language": "python",
   "name": "python3"
  },
  "language_info": {
   "codemirror_mode": {
    "name": "ipython",
    "version": 2
   },
   "file_extension": ".py",
   "mimetype": "text/x-python",
   "name": "python",
   "nbconvert_exporter": "python",
   "pygments_lexer": "ipython2",
   "version": "2.7.6"
  }
 },
 "nbformat": 4,
 "nbformat_minor": 0
}
